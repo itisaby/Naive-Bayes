{
 "cells": [
  {
   "cell_type": "code",
   "execution_count": 1,
   "id": "53ca5c09",
   "metadata": {},
   "outputs": [],
   "source": [
    "import numpy as np"
   ]
  },
  {
   "cell_type": "code",
   "execution_count": null,
   "id": "d29eb9a3",
   "metadata": {},
   "outputs": [],
   "source": [
    "def fit(X_train, Y_train):\n",
    "    result = {}\n",
    "    class_values = set(Y_train) #It will choose the distinct value of Y_train\n",
    "    for class_current in class_values:\n",
    "        #storing each unique class of Y_train in dictionary\n",
    "        result[class_current] = {}\n",
    "        #storing total number of data points\n",
    "        result[\"total_data\"] = len(Y_train) \n",
    "        #checking and storing the value of whether in current_class_rows is storing the current class \n",
    "        current_class_rows = (Y_train==class_current)\n",
    "        #We are storing the value of X_train which belongs to the current class of Y_train \n",
    "        X_train_current = X_train[current_class_rows]\n",
    "        #same we are doing in Y_train also\n",
    "        Y_train_current = Y_train[current_class_rows]\n",
    "        #we are counting the number of features in the training data \n",
    "        num_features = X_train.shape[1]\n",
    "        #we are storing the total count of data points of that particluar class of Y_train \n",
    "        result[class_current][\"total_count\"] = len(Y_train_current)\n",
    "        #now we are storing a dictionary where all the features are stored \n",
    "        for j in range(num_features):\n",
    "            #this will store all possible value of features\n",
    "            result[class_current][j] = {}  \n",
    "            #it will find the unique value in that particular feature\n",
    "            all_possible_values = set(X_train[:,j])\n",
    "            #here we are storing \n",
    "            for current_val in all_possible_values:\n",
    "                result[class_current][j][current_val] = (X_train_current[:,j] == current_val).sum()\n",
    "            "
   ]
  }
 ],
 "metadata": {
  "kernelspec": {
   "display_name": "Python 3 (ipykernel)",
   "language": "python",
   "name": "python3"
  },
  "language_info": {
   "codemirror_mode": {
    "name": "ipython",
    "version": 3
   },
   "file_extension": ".py",
   "mimetype": "text/x-python",
   "name": "python",
   "nbconvert_exporter": "python",
   "pygments_lexer": "ipython3",
   "version": "3.8.10"
  }
 },
 "nbformat": 4,
 "nbformat_minor": 5
}
