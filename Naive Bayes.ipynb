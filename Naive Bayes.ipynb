{
 "cells": [
  {
   "cell_type": "code",
   "execution_count": 1,
   "id": "53ca5c09",
   "metadata": {},
   "outputs": [],
   "source": [
    "import numpy as np"
   ]
  },
  {
   "cell_type": "code",
   "execution_count": null,
   "id": "d29eb9a3",
   "metadata": {},
   "outputs": [],
   "source": [
    "def fit(X_train, Y_train):\n",
    "    result = {}\n",
    "    class_values = set(Y_train) #It will choose the distinct value of Y_train\n",
    "    for class_current in class_values:\n",
    "        #storing each unique class of Y_train in dictionary\n",
    "        result[class_current] = {}\n",
    "        #storing total number of data points\n",
    "        result[\"total_data\"] = len(Y_train) \n",
    "        #checking and storing the value of whether in current_class_rows is storing the current class \n",
    "        current_class_rows = (Y_train==class_current)\n",
    "        #We are storing the value of X_train which belongs to the current class of Y_train \n",
    "        X_train_current = X_train[current_class_rows]\n",
    "        #same we are doing in Y_train also\n",
    "        Y_train_current = Y_train[current_class_rows]\n",
    "        #we are counting the number of features in the training data \n",
    "        num_features = X_train.shape[1]\n",
    "        #we are storing the total count of data points of that particluar class of Y_train \n",
    "        result[class_current][\"total_count\"] = len(Y_train_current)\n",
    "        #now we are storing a dictionary where all the features are stored \n",
    "        for j in range(1, num_features+1):\n",
    "            #this will store all possible value of features\n",
    "            result[class_current][j] = {}  \n",
    "            #it will find the unique value in that particular feature\n",
    "            all_possible_values = set(X_train[:,j])\n",
    "            #here we are storing the count of each class in that feature which has label of the current class in Y_train\n",
    "            for current_val in all_possible_values:\n",
    "                result[class_current][j][current_val] = (X_train_current[:,j] == current_val).sum()\n",
    "                \n",
    "    return result\n",
    "            "
   ]
  },
  {
   "cell_type": "code",
   "execution_count": null,
   "id": "a36727c6",
   "metadata": {},
   "outputs": [],
   "source": [
    "def Probability(dictionary, x, current_class):\n",
    "    output = dictionary[current_class][\"total_count\"]\n",
    "#     finding the number of featues in the dictionary\n",
    "    num_features = len(dictionary[current_class].keys()) - 1\n",
    "    #for each feature\n",
    "    for j in range(1, num_feature+1):\n",
    "        xj = x[j]\n",
    "        #need to find the probability\n",
    "#         count_current_class_with_value_xj = dictionary[current_class][j][xj]\n",
    "#         count_current_class = dictionary[current_class][\"total_count\"]\n",
    "        #added laplace correction\n",
    "        count_current_class_with_value_xj = dictionary[current_class][j][xj] + 1\n",
    "        count_current_class = dictionary[current_class][\"total_count\"] + len(dictionary[current_class][j].keys())\n",
    "        current_xj_probability = count_current_class_with_value_xj/count_current_class\n",
    "        output = output*current_xj_probability\n",
    "    return output"
   ]
  },
  {
   "cell_type": "code",
   "execution_count": 2,
   "id": "9b45a5b7",
   "metadata": {},
   "outputs": [],
   "source": [
    "def PredictSinglePoint(dictionary, x):\n",
    "    #predicting for each datapoint \n",
    "    classes = dictionary.keys #As we know that the dictionary has all the unique class of Y_train\n",
    "    best_p = -1000 #assuming\n",
    "    best_class = -1 #assuming \n",
    "    first_run = True #assuming \n",
    "    for current_class in classes:\n",
    "        #finding probability of that particular datapoint\n",
    "        p_current_class = Probability(dictionary, x, current_class)\n",
    "        #condition whether the probability is better than the assumed one\n",
    "        if(p_current_class > best_p):\n",
    "            best_p = p_current_class  #if it does then storing the value in best_p\n",
    "            best_class = current_class  #if it does then storing the value in best_class\n",
    "        first_run = False\n",
    "    "
   ]
  },
  {
   "cell_type": "code",
   "execution_count": null,
   "id": "940d2a7d",
   "metadata": {},
   "outputs": [],
   "source": [
    "def predict(dictionary, X_test):\n",
    "    #we need to predict Y\n",
    "    y_pred=[] \n",
    "    #going through each datapoint of x\n",
    "    for x in X_test:\n",
    "        #finding the value to append in Y_train accordingly\n",
    "        x_class = PredictSinglePoint(dictionary, x)\n",
    "        y_pred.append(x_class)\n",
    "    return y_pred"
   ]
  }
 ],
 "metadata": {
  "kernelspec": {
   "display_name": "Python 3 (ipykernel)",
   "language": "python",
   "name": "python3"
  },
  "language_info": {
   "codemirror_mode": {
    "name": "ipython",
    "version": 3
   },
   "file_extension": ".py",
   "mimetype": "text/x-python",
   "name": "python",
   "nbconvert_exporter": "python",
   "pygments_lexer": "ipython3",
   "version": "3.8.10"
  }
 },
 "nbformat": 4,
 "nbformat_minor": 5
}
