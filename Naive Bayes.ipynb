{
 "cells": [
  {
   "cell_type": "code",
   "execution_count": 1,
   "id": "53ca5c09",
   "metadata": {},
   "outputs": [],
   "source": [
    "import numpy as np"
   ]
  },
  {
   "cell_type": "code",
   "execution_count": null,
   "id": "d29eb9a3",
   "metadata": {},
   "outputs": [],
   "source": [
    "def fit(X_train, Y_train):\n",
    "    result = {}\n",
    "    class_values = set(Y_train) #It will choose the distinct value \n",
    "    for class_val in class_values:\n",
    "        result[class_val] = {}\n",
    "        num_features = X_train.shape[1]\n",
    "        for j in range(num_features):\n",
    "            result[class_val][j] = {} #this will store all possible value of features \n",
    "            all_possible_values = set(X_train[:,j])\n",
    "            for k in \n",
    "            "
   ]
  }
 ],
 "metadata": {
  "kernelspec": {
   "display_name": "Python 3 (ipykernel)",
   "language": "python",
   "name": "python3"
  },
  "language_info": {
   "codemirror_mode": {
    "name": "ipython",
    "version": 3
   },
   "file_extension": ".py",
   "mimetype": "text/x-python",
   "name": "python",
   "nbconvert_exporter": "python",
   "pygments_lexer": "ipython3",
   "version": "3.8.10"
  }
 },
 "nbformat": 4,
 "nbformat_minor": 5
}
